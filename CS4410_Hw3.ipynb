{
  "nbformat": 4,
  "nbformat_minor": 0,
  "metadata": {
    "colab": {
      "provenance": [],
      "collapsed_sections": [],
      "authorship_tag": "ABX9TyO7MM1zoWQv/qV1GPUZ6dYO",
      "include_colab_link": true
    },
    "kernelspec": {
      "name": "python3",
      "display_name": "Python 3"
    },
    "language_info": {
      "name": "python"
    }
  },
  "cells": [
    {
      "cell_type": "markdown",
      "metadata": {
        "id": "view-in-github",
        "colab_type": "text"
      },
      "source": [
        "<a href=\"https://colab.research.google.com/github/AutumnDilks/CS4410/blob/main/CS4410_Hw3.ipynb\" target=\"_parent\"><img src=\"https://colab.research.google.com/assets/colab-badge.svg\" alt=\"Open In Colab\"/></a>"
      ]
    },
    {
      "cell_type": "code",
      "execution_count": 17,
      "metadata": {
        "id": "_g5PwC-o5qj-"
      },
      "outputs": [],
      "source": [
        "import numpy as np\n",
        "\n",
        "import matplotlib.pyplot as plt\n",
        "\n",
        "from sklearn.datasets import load_iris "
      ]
    },
    {
      "cell_type": "code",
      "source": [
        "iris = load_iris()"
      ],
      "metadata": {
        "id": "4NwiK-p-FzoA"
      },
      "execution_count": 18,
      "outputs": []
    },
    {
      "cell_type": "code",
      "source": [
        "print(iris.DESCR)"
      ],
      "metadata": {
        "colab": {
          "base_uri": "https://localhost:8080/",
          "height": 0
        },
        "id": "652szkdkGkpT",
        "outputId": "093b4d42-5360-426f-ad7b-84f216388fac"
      },
      "execution_count": 19,
      "outputs": [
        {
          "output_type": "stream",
          "name": "stdout",
          "text": [
            ".. _iris_dataset:\n",
            "\n",
            "Iris plants dataset\n",
            "--------------------\n",
            "\n",
            "**Data Set Characteristics:**\n",
            "\n",
            "    :Number of Instances: 150 (50 in each of three classes)\n",
            "    :Number of Attributes: 4 numeric, predictive attributes and the class\n",
            "    :Attribute Information:\n",
            "        - sepal length in cm\n",
            "        - sepal width in cm\n",
            "        - petal length in cm\n",
            "        - petal width in cm\n",
            "        - class:\n",
            "                - Iris-Setosa\n",
            "                - Iris-Versicolour\n",
            "                - Iris-Virginica\n",
            "                \n",
            "    :Summary Statistics:\n",
            "\n",
            "    ============== ==== ==== ======= ===== ====================\n",
            "                    Min  Max   Mean    SD   Class Correlation\n",
            "    ============== ==== ==== ======= ===== ====================\n",
            "    sepal length:   4.3  7.9   5.84   0.83    0.7826\n",
            "    sepal width:    2.0  4.4   3.05   0.43   -0.4194\n",
            "    petal length:   1.0  6.9   3.76   1.76    0.9490  (high!)\n",
            "    petal width:    0.1  2.5   1.20   0.76    0.9565  (high!)\n",
            "    ============== ==== ==== ======= ===== ====================\n",
            "\n",
            "    :Missing Attribute Values: None\n",
            "    :Class Distribution: 33.3% for each of 3 classes.\n",
            "    :Creator: R.A. Fisher\n",
            "    :Donor: Michael Marshall (MARSHALL%PLU@io.arc.nasa.gov)\n",
            "    :Date: July, 1988\n",
            "\n",
            "The famous Iris database, first used by Sir R.A. Fisher. The dataset is taken\n",
            "from Fisher's paper. Note that it's the same as in R, but not as in the UCI\n",
            "Machine Learning Repository, which has two wrong data points.\n",
            "\n",
            "This is perhaps the best known database to be found in the\n",
            "pattern recognition literature.  Fisher's paper is a classic in the field and\n",
            "is referenced frequently to this day.  (See Duda & Hart, for example.)  The\n",
            "data set contains 3 classes of 50 instances each, where each class refers to a\n",
            "type of iris plant.  One class is linearly separable from the other 2; the\n",
            "latter are NOT linearly separable from each other.\n",
            "\n",
            ".. topic:: References\n",
            "\n",
            "   - Fisher, R.A. \"The use of multiple measurements in taxonomic problems\"\n",
            "     Annual Eugenics, 7, Part II, 179-188 (1936); also in \"Contributions to\n",
            "     Mathematical Statistics\" (John Wiley, NY, 1950).\n",
            "   - Duda, R.O., & Hart, P.E. (1973) Pattern Classification and Scene Analysis.\n",
            "     (Q327.D83) John Wiley & Sons.  ISBN 0-471-22361-1.  See page 218.\n",
            "   - Dasarathy, B.V. (1980) \"Nosing Around the Neighborhood: A New System\n",
            "     Structure and Classification Rule for Recognition in Partially Exposed\n",
            "     Environments\".  IEEE Transactions on Pattern Analysis and Machine\n",
            "     Intelligence, Vol. PAMI-2, No. 1, 67-71.\n",
            "   - Gates, G.W. (1972) \"The Reduced Nearest Neighbor Rule\".  IEEE Transactions\n",
            "     on Information Theory, May 1972, 431-433.\n",
            "   - See also: 1988 MLC Proceedings, 54-64.  Cheeseman et al\"s AUTOCLASS II\n",
            "     conceptual clustering system finds 3 classes in the data.\n",
            "   - Many, many more ...\n"
          ]
        }
      ]
    },
    {
      "cell_type": "code",
      "source": [
        "from sklearn.neighbors import KNeighborsClassifier"
      ],
      "metadata": {
        "id": "L6UIXD3hobJ9"
      },
      "execution_count": 20,
      "outputs": []
    },
    {
      "cell_type": "code",
      "source": [
        "knn = KNeighborsClassifier()"
      ],
      "metadata": {
        "id": "1OV9pQeorf8s"
      },
      "execution_count": 21,
      "outputs": []
    },
    {
      "cell_type": "code",
      "source": [
        "from sklearn.model_selection import KFold"
      ],
      "metadata": {
        "id": "tuIKIvVnrtaV"
      },
      "execution_count": 22,
      "outputs": []
    },
    {
      "cell_type": "code",
      "source": [
        "from sklearn.model_selection import cross_val_score"
      ],
      "metadata": {
        "id": "Ue9HOwgsugxv"
      },
      "execution_count": 23,
      "outputs": []
    },
    {
      "cell_type": "code",
      "source": [
        "estimators ={ 'KNeighborsClassifier':knn}"
      ],
      "metadata": {
        "id": "2mMAVwqM1im1"
      },
      "execution_count": 24,
      "outputs": []
    },
    {
      "cell_type": "code",
      "source": [
        "for estimator_name,estimator_object in estimators.items(): \n",
        "\n",
        "  kfold = KFold(n_splits=10, random_state=11 , shuffle=True) \n",
        "\n",
        "  scores = cross_val_score(estimator=knn, X=iris.data, y=iris.target, cv=kfold) \n",
        "\n",
        "  print(f'{estimator_name:}: '+ f'mean accuracy= {scores.mean():.2%}; ' + f'standard deviastion={scores.std():.2%}')"
      ],
      "metadata": {
        "colab": {
          "base_uri": "https://localhost:8080/",
          "height": 0
        },
        "id": "6dfNuXRFu4ua",
        "outputId": "bac736ae-9f27-4b88-832f-ad8b442cbbaf"
      },
      "execution_count": 25,
      "outputs": [
        {
          "output_type": "stream",
          "name": "stdout",
          "text": [
            "KNeighborsClassifier: mean accuracy= 95.33%; standard deviastion=5.21%\n"
          ]
        }
      ]
    },
    {
      "cell_type": "code",
      "source": [
        "k_range=range(1,31)\n",
        "\n"
      ],
      "metadata": {
        "id": "IBDUs3bz-fx7"
      },
      "execution_count": 26,
      "outputs": []
    },
    {
      "cell_type": "code",
      "source": [
        "for k in k_range: \n",
        "     kfold = KFold(n_splits=10, random_state=11 , shuffle=True) \n",
        "     knn=KNeighborsClassifier(n_neighbors=k)\n",
        "     scores= cross_val_score(estimator=knn, X=iris.data, y=iris.target, cv=10) \n",
        "     print(f'k={k: }; mean accuracy={scores.mean():.2%};' + f'standard deviation={scores.std():.2%}') \n",
        "\n",
        " \n"
      ],
      "metadata": {
        "colab": {
          "base_uri": "https://localhost:8080/",
          "height": 0
        },
        "id": "t28kly7x8TM8",
        "outputId": "54a548c8-83f8-4b32-f327-b5571095e12b"
      },
      "execution_count": 27,
      "outputs": [
        {
          "output_type": "stream",
          "name": "stdout",
          "text": [
            "k= 1; mean accuracy=96.00%;standard deviation=5.33%\n",
            "k= 2; mean accuracy=95.33%;standard deviation=5.21%\n",
            "k= 3; mean accuracy=96.67%;standard deviation=4.47%\n",
            "k= 4; mean accuracy=96.67%;standard deviation=4.47%\n",
            "k= 5; mean accuracy=96.67%;standard deviation=4.47%\n",
            "k= 6; mean accuracy=96.67%;standard deviation=4.47%\n",
            "k= 7; mean accuracy=96.67%;standard deviation=4.47%\n",
            "k= 8; mean accuracy=96.67%;standard deviation=4.47%\n",
            "k= 9; mean accuracy=97.33%;standard deviation=3.27%\n",
            "k= 10; mean accuracy=96.67%;standard deviation=4.47%\n",
            "k= 11; mean accuracy=96.67%;standard deviation=4.47%\n",
            "k= 12; mean accuracy=97.33%;standard deviation=3.27%\n",
            "k= 13; mean accuracy=98.00%;standard deviation=3.06%\n",
            "k= 14; mean accuracy=97.33%;standard deviation=4.42%\n",
            "k= 15; mean accuracy=97.33%;standard deviation=3.27%\n",
            "k= 16; mean accuracy=97.33%;standard deviation=3.27%\n",
            "k= 17; mean accuracy=97.33%;standard deviation=3.27%\n",
            "k= 18; mean accuracy=98.00%;standard deviation=3.06%\n",
            "k= 19; mean accuracy=97.33%;standard deviation=3.27%\n",
            "k= 20; mean accuracy=98.00%;standard deviation=3.06%\n",
            "k= 21; mean accuracy=96.67%;standard deviation=3.33%\n",
            "k= 22; mean accuracy=96.67%;standard deviation=3.33%\n",
            "k= 23; mean accuracy=97.33%;standard deviation=3.27%\n",
            "k= 24; mean accuracy=96.00%;standard deviation=4.42%\n",
            "k= 25; mean accuracy=96.67%;standard deviation=3.33%\n",
            "k= 26; mean accuracy=96.00%;standard deviation=4.42%\n",
            "k= 27; mean accuracy=96.67%;standard deviation=4.47%\n",
            "k= 28; mean accuracy=95.33%;standard deviation=4.27%\n",
            "k= 29; mean accuracy=95.33%;standard deviation=4.27%\n",
            "k= 30; mean accuracy=95.33%;standard deviation=4.27%\n"
          ]
        }
      ]
    },
    {
      "cell_type": "markdown",
      "source": [
        "x= np.arange(0,35,5)\n",
        "y=np.sin(x)"
      ],
      "metadata": {
        "id": "aYhxNapJeOzz"
      }
    },
    {
      "cell_type": "code",
      "source": [
        "for k in k_range: \n",
        "     knn=KNeighborsClassifier(n_neighbors=k)\n",
        "     scores= cross_val_score(estimator=knn, X=iris.data, y=iris.target, cv=10) \n",
        "  \n",
        "x= np.arange(0,35,5) \n",
        "y=np.sin(x)\n",
        "\n",
        "plt.plot(x,y) \n",
        "\n",
        "plt.xlabel(\"Value of K for KNN\")\n",
        "plt.ylabel(\"Cross-Validated Accuracy\")\n",
        "plt.show()"
      ],
      "metadata": {
        "colab": {
          "base_uri": "https://localhost:8080/",
          "height": 283
        },
        "id": "NX9Nqf-kAMem",
        "outputId": "afcbbc30-4e5f-4666-ea85-4733e7e5cfc1"
      },
      "execution_count": 28,
      "outputs": [
        {
          "output_type": "display_data",
          "data": {
            "text/plain": [
              "<Figure size 432x288 with 1 Axes>"
            ],
            "image/png": "[encoded data removed]"
          },
          "metadata": {
            "needs_background": "light"
          }
        }
      ]
    },
    {
      "cell_type": "code",
      "source": [],
      "metadata": {
        "id": "kdMoRFf8Frlm"
      },
      "execution_count": 28,
      "outputs": []
    },
    {
      "cell_type": "code",
      "source": [
        "from sklearn.model_selection import GridSearchCV \n",
        "\n",
        "from sklearn.model_selection import train_test_split \n",
        "\n",
        "\n"
      ],
      "metadata": {
        "id": "BfgBG6TcGMfM"
      },
      "execution_count": 29,
      "outputs": []
    },
    {
      "cell_type": "code",
      "source": [
        " x=iris.data\n",
        " y=iris.target\n",
        "\n",
        "X_train,X_test,y_train,y_test= train_test_split(x,y) \n",
        "\n",
        "grid_knn = GridSearchCV(estimator=knn, param_grid = parameters , cv = 10, k_range)\n",
        "\n",
        "grid_knn.fit(X_train,y_train) "
      ],
      "metadata": {
        "colab": {
          "base_uri": "https://localhost:8080/",
          "height": 130
        },
        "id": "mCY0VxSMbl3g",
        "outputId": "e3a9c594-ef9f-4c17-8663-4a4f90f7cad7"
      },
      "execution_count": 30,
      "outputs": [
        {
          "output_type": "error",
          "ename": "SyntaxError",
          "evalue": "ignored",
          "traceback": [
            "\u001b[0;36m  File \u001b[0;32m\"<ipython-input-30-f7e6fe42a5f9>\"\u001b[0;36m, line \u001b[0;32m6\u001b[0m\n\u001b[0;31m    grid_knn = GridSearchCV(estimator=knn, param_grid = parameters , cv = 10, k_range)\u001b[0m\n\u001b[0m                                                                             ^\u001b[0m\n\u001b[0;31mSyntaxError\u001b[0m\u001b[0;31m:\u001b[0m positional argument follows keyword argument\n"
          ]
        }
      ]
    }
  ]
}